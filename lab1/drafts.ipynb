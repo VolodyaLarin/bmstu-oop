{
 "metadata": {
  "language_info": {
   "codemirror_mode": {
    "name": "ipython",
    "version": 3
   },
   "file_extension": ".py",
   "mimetype": "text/x-python",
   "name": "python",
   "nbconvert_exporter": "python",
   "pygments_lexer": "ipython3",
   "version": "3.8.5-final"
  },
  "orig_nbformat": 2,
  "kernelspec": {
   "name": "python38564bit5074096b5b0c4c0d916f2873728e2495",
   "display_name": "Python 3.8.5 64-bit",
   "language": "python"
  }
 },
 "nbformat": 4,
 "nbformat_minor": 2,
 "cells": [
  {
   "cell_type": "code",
   "execution_count": 21,
   "metadata": {},
   "outputs": [],
   "source": [
    "from sympy import *\n",
    "\n",
    "init_printing(use_unicode=True)"
   ]
  },
  {
   "cell_type": "code",
   "execution_count": 22,
   "metadata": {},
   "outputs": [],
   "source": [
    "def translate(dx, dy, dz):\n",
    "    return Matrix([\n",
    "        [1, 0 ,0, 0],\n",
    "        [0, 1 ,0, 0],\n",
    "        [0, 0 ,1, 0],\n",
    "        [dx, dy ,dz, 1],\n",
    "    ]\n",
    "    )\n",
    "\n",
    "def scale(sx, sy, sz):\n",
    "    return Matrix([\n",
    "        [sx, 0 ,0, 0],\n",
    "        [0, sy ,0, 0],\n",
    "        [0, 0 ,sz, 0],\n",
    "        [0, 0 ,0, 1],\n",
    "    ]\n",
    "    )"
   ]
  },
  {
   "cell_type": "code",
   "execution_count": 23,
   "metadata": {},
   "outputs": [],
   "source": [
    "def rotate_z(angle):\n",
    "    return Matrix([\n",
    "        [cos(angle), sin(angle) ,0, 0],\n",
    "        [-sin(angle), cos(angle) ,0, 0],\n",
    "        [0, 0 ,1, 0],\n",
    "        [0, 0 ,0, 1],\n",
    "    ]\n",
    "    )\n",
    "def rotate_y(angle):\n",
    "    return Matrix([\n",
    "        [cos(angle), 0, sin(angle), 0],\n",
    "        [0, 1 ,0, 0],\n",
    "        [-sin(angle),0,  cos(angle), 0],\n",
    "        [0, 0 ,0, 1],\n",
    "    ]\n",
    "    )\n",
    "def rotate_x(angle):\n",
    "    return Matrix([\n",
    "        [1, 0 ,0, 0],\n",
    "        [0, cos(angle), sin(angle) ,0],\n",
    "        [0, -sin(angle), cos(angle) ,0],\n",
    "        [0, 0 ,0, 1],\n",
    "    ]\n",
    "    )"
   ]
  },
  {
   "cell_type": "code",
   "execution_count": 24,
   "metadata": {},
   "outputs": [],
   "source": [
    "cord_vec = Matrix([[Symbol('x'), Symbol('y'), Symbol('z'), 1]])"
   ]
  },
  {
   "cell_type": "code",
   "execution_count": 25,
   "metadata": {},
   "outputs": [
    {
     "output_type": "execute_result",
     "data": {
      "text/plain": [
       "⎡                      dₓ + x                                                d\n",
       "⎢                                                                             \n",
       "⎢                 dₓ + sₓ⋅(-dₓ + x)                                   d_y + s_\n",
       "⎢                                                                             \n",
       "⎢                         x                           d_y + (-d_y + y)⋅cos(\\al\n",
       "⎢                                                                             \n",
       "⎢dₓ + (-dₓ + x)⋅cos(\\alpha) - (-d_z + z)⋅sin(\\alpha)                          \n",
       "⎢                                                                             \n",
       "⎣dₓ + (-dₓ + x)⋅cos(\\alpha) - (-d_y + y)⋅sin(\\alpha)  d_y + (-dₓ + x)⋅sin(\\alp\n",
       "\n",
       "_y + y                                                d_z + z                 \n",
       "                                                                              \n",
       "y⋅(-d_y + y)                                   d_z + s_z⋅(-d_z + z)           \n",
       "                                                                              \n",
       "pha) - (-d_z + z)⋅sin(\\alpha)  d_z + (-d_y + y)⋅sin(\\alpha) + (-d_z + z)⋅cos(\\\n",
       "                                                                              \n",
       "  y                            d_z + (-dₓ + x)⋅sin(\\alpha) + (-d_z + z)⋅cos(\\a\n",
       "                                                                              \n",
       "ha) + (-d_y + y)⋅cos(\\alpha)                             z                    \n",
       "\n",
       "        1⎤\n",
       "         ⎥\n",
       "        1⎥\n",
       "         ⎥\n",
       "alpha)  1⎥\n",
       "         ⎥\n",
       "lpha)   1⎥\n",
       "         ⎥\n",
       "        1⎦"
      ],
      "text/latex": "$\\displaystyle \\left[\\begin{matrix}d_{x} + x & d_{y} + y & d_{z} + z & 1\\\\d_{x} + s_{x} \\left(- d_{x} + x\\right) & d_{y} + s_{y} \\left(- d_{y} + y\\right) & d_{z} + s_{z} \\left(- d_{z} + z\\right) & 1\\\\x & d_{y} + \\left(- d_{y} + y\\right) \\cos{\\left(\\alpha \\right)} - \\left(- d_{z} + z\\right) \\sin{\\left(\\alpha \\right)} & d_{z} + \\left(- d_{y} + y\\right) \\sin{\\left(\\alpha \\right)} + \\left(- d_{z} + z\\right) \\cos{\\left(\\alpha \\right)} & 1\\\\d_{x} + \\left(- d_{x} + x\\right) \\cos{\\left(\\alpha \\right)} - \\left(- d_{z} + z\\right) \\sin{\\left(\\alpha \\right)} & y & d_{z} + \\left(- d_{x} + x\\right) \\sin{\\left(\\alpha \\right)} + \\left(- d_{z} + z\\right) \\cos{\\left(\\alpha \\right)} & 1\\\\d_{x} + \\left(- d_{x} + x\\right) \\cos{\\left(\\alpha \\right)} - \\left(- d_{y} + y\\right) \\sin{\\left(\\alpha \\right)} & d_{y} + \\left(- d_{x} + x\\right) \\sin{\\left(\\alpha \\right)} + \\left(- d_{y} + y\\right) \\cos{\\left(\\alpha \\right)} & z & 1\\end{matrix}\\right]$"
     },
     "metadata": {},
     "execution_count": 25
    }
   ],
   "source": [
    "mrx = (\n",
    "    cord_vec *\n",
    "    translate(-Symbol('d_x'), -Symbol('d_y'), -Symbol('d_z')) *\n",
    "    rotate_x(Symbol(\"\\\\alpha\")) *\n",
    "    translate(Symbol('d_x'), Symbol('d_y'), Symbol('d_z')) \n",
    ")\n",
    "\n",
    "mry = (\n",
    "    cord_vec *\n",
    "    translate(-Symbol('d_x'), -Symbol('d_y'), -Symbol('d_z')) *\n",
    "    rotate_y(Symbol(\"\\\\alpha\")) *\n",
    "    translate(Symbol('d_x'), Symbol('d_y'), Symbol('d_z')) \n",
    ")\n",
    "\n",
    "mrz = (\n",
    "    cord_vec *\n",
    "    translate(-Symbol('d_x'), -Symbol('d_y'), -Symbol('d_z')) *\n",
    "    rotate_z(Symbol(\"\\\\alpha\")) *\n",
    "    translate(Symbol('d_x'), Symbol('d_y'), Symbol('d_z')) \n",
    ")\n",
    "\n",
    "mt = (\n",
    "    cord_vec *\n",
    "    translate(Symbol('d_x'), Symbol('d_y'), Symbol('d_z'))\n",
    ")\n",
    "\n",
    "\n",
    "ms = (\n",
    "    cord_vec *\n",
    "    translate(-Symbol('d_x'), -Symbol('d_y'), -Symbol('d_z')) *\n",
    "    scale(Symbol(\"s_x\"), Symbol(\"s_y\"), Symbol(\"s_z\")) *\n",
    "    translate(Symbol('d_x'), Symbol('d_y'), Symbol('d_z')) \n",
    ")\n",
    "\n",
    "Matrix([mt, ms, mrx, mry, mrz])\n"
   ]
  },
  {
   "cell_type": "code",
   "execution_count": 33,
   "metadata": {
    "tags": []
   },
   "outputs": [
    {
     "output_type": "stream",
     "name": "stdout",
     "text": [
      "\n\n\n\n\n\n\n\n\n\n\n\n\n\n[0.0, 111.955, 8.816050000000004]\n"
     ]
    }
   ],
   "source": [
    "file = open(\"ORIGAM_CHIEN_Free.obj\", \"rt\")\n",
    "cords = [[0,0,0]]\n",
    "lines = [] \n",
    "for line in file.readlines():\n",
    "    try:\n",
    "        x = line.replace(\"/n\", \"\").split()\n",
    "        if x[0] == \"v\":\n",
    "            cords.append(list(map(float, x[1:])))\n",
    "        if x[0] == \"f\":\n",
    "            c = list(map(lambda y: int(y.split('/')[0]), x[1:]))\n",
    "        \n",
    "            for i in range(len(c) - 1):\n",
    "                line = [cords[c[i]], cords[c[i+1]]]\n",
    "                lines.append(line)\n",
    "            lines.append([cords[c[0]], cords[c[-1]]])\n",
    "    except:\n",
    "        print(line)\n",
    "\n",
    "center = [\n",
    "    (min(map(lambda x: x[0], cords[1:])) + max(map(lambda x: x[0], cords[1:]))) / 2,\n",
    "    (min(map(lambda x: x[1], cords[1:])) + max(map(lambda x: x[1], cords[1:]))) / 2,\n",
    "    (min(map(lambda x: x[2], cords[1:])) + max(map(lambda x: x[2], cords[1:]))) / 2,\n",
    "]\n",
    "\n",
    "print(center)\n",
    "\n",
    "file.close()\n",
    "file = open(\"out.txt\", \"w\")\n",
    "\n",
    "print(*center, file=file)\n",
    "print(len(lines),file=file)\n",
    "\n",
    "for line in lines:\n",
    "    print(*line[0], file=file)\n",
    "    print(*line[1], file=file)\n",
    "\n",
    "file.close()"
   ]
  },
  {
   "cell_type": "code",
   "execution_count": null,
   "metadata": {},
   "outputs": [],
   "source": []
  }
 ]
}