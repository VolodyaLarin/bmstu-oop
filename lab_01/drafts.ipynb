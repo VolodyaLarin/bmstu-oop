{
 "metadata": {
  "language_info": {
   "codemirror_mode": {
    "name": "ipython",
    "version": 3
   },
   "file_extension": ".py",
   "mimetype": "text/x-python",
   "name": "python",
   "nbconvert_exporter": "python",
   "pygments_lexer": "ipython3",
   "version": "3.8.5"
  },
  "orig_nbformat": 2,
  "kernelspec": {
   "name": "python38564bit5074096b5b0c4c0d916f2873728e2495",
   "display_name": "Python 3.8.5 64-bit"
  },
  "metadata": {
   "interpreter": {
    "hash": "916dbcbb3f70747c44a77c7bcd40155683ae19c65e1c03b4aa3499c5328201f1"
   }
  }
 },
 "nbformat": 4,
 "nbformat_minor": 2,
 "cells": [
  {
   "cell_type": "code",
   "execution_count": 3,
   "metadata": {},
   "outputs": [],
   "source": [
    "from sympy import *\n",
    "\n",
    "init_printing(use_unicode=True)"
   ]
  },
  {
   "cell_type": "code",
   "execution_count": 4,
   "metadata": {},
   "outputs": [],
   "source": [
    "def translate(dx, dy, dz):\n",
    "    return Matrix([\n",
    "        [1, 0 ,0, 0],\n",
    "        [0, 1 ,0, 0],\n",
    "        [0, 0 ,1, 0],\n",
    "        [dx, dy ,dz, 1],\n",
    "    ]\n",
    "    )\n",
    "\n",
    "def scale(sx, sy, sz):\n",
    "    return Matrix([\n",
    "        [sx, 0 ,0, 0],\n",
    "        [0, sy ,0, 0],\n",
    "        [0, 0 ,sz, 0],\n",
    "        [0, 0 ,0, 1],\n",
    "    ]\n",
    "    )"
   ]
  },
  {
   "cell_type": "code",
   "execution_count": 8,
   "metadata": {},
   "outputs": [],
   "source": [
    "def rotate_z(angle):\n",
    "    return Matrix([\n",
    "        [cos(angle), sin(angle) ,0, 0],\n",
    "        [-sin(angle), cos(angle) ,0, 0],\n",
    "        [0, 0 ,1, 0],\n",
    "        [0, 0 ,0, 1],\n",
    "    ]\n",
    "    )\n",
    "def rotate_y(angle):\n",
    "    return Matrix([\n",
    "        [cos(angle), 0, sin(angle), 0],\n",
    "        [0, 1 ,0, 0],\n",
    "        [-sin(angle),0,  cos(angle), 0],\n",
    "        [0, 0 ,0, 1],\n",
    "    ]\n",
    "    )\n",
    "def rotate_x(angle):\n",
    "    return Matrix([\n",
    "        [1, 0 ,0, 0],\n",
    "        [0, cos(angle), sin(angle) ,0],\n",
    "        [0, -sin(angle), cos(angle) ,0],\n",
    "        [0, 0 ,0, 1],\n",
    "    ]\n",
    "    )"
   ]
  },
  {
   "cell_type": "code",
   "execution_count": 9,
   "metadata": {},
   "outputs": [],
   "source": [
    "cord_vec = Matrix([[Symbol('x'), Symbol('y'), Symbol('z'), 1]])"
   ]
  },
  {
   "cell_type": "code",
   "execution_count": 15,
   "metadata": {},
   "outputs": [
    {
     "output_type": "execute_result",
     "data": {
      "text/plain": [
       "⎡            cos(y)⋅cos(z)                          sin(z)⋅cos(y)             \n",
       "⎢                                                                             \n",
       "⎢-sin(x)⋅sin(y)⋅cos(z) - sin(z)⋅cos(x)  -sin(x)⋅sin(y)⋅sin(z) + cos(x)⋅cos(z) \n",
       "⎢                                                                             \n",
       "⎢sin(x)⋅sin(z) - sin(y)⋅cos(x)⋅cos(z)   -sin(x)⋅cos(z) - sin(y)⋅sin(z)⋅cos(x) \n",
       "⎢                                                                             \n",
       "⎣                  0                                      0                   \n",
       "\n",
       "    sin(y)      0⎤\n",
       "                 ⎥\n",
       " sin(x)⋅cos(y)  0⎥\n",
       "                 ⎥\n",
       " cos(x)⋅cos(y)  0⎥\n",
       "                 ⎥\n",
       "       0        1⎦"
      ],
      "text/latex": "$\\displaystyle \\left[\\begin{matrix}\\cos{\\left(y \\right)} \\cos{\\left(z \\right)} & \\sin{\\left(z \\right)} \\cos{\\left(y \\right)} & \\sin{\\left(y \\right)} & 0\\\\- \\sin{\\left(x \\right)} \\sin{\\left(y \\right)} \\cos{\\left(z \\right)} - \\sin{\\left(z \\right)} \\cos{\\left(x \\right)} & - \\sin{\\left(x \\right)} \\sin{\\left(y \\right)} \\sin{\\left(z \\right)} + \\cos{\\left(x \\right)} \\cos{\\left(z \\right)} & \\sin{\\left(x \\right)} \\cos{\\left(y \\right)} & 0\\\\\\sin{\\left(x \\right)} \\sin{\\left(z \\right)} - \\sin{\\left(y \\right)} \\cos{\\left(x \\right)} \\cos{\\left(z \\right)} & - \\sin{\\left(x \\right)} \\cos{\\left(z \\right)} - \\sin{\\left(y \\right)} \\sin{\\left(z \\right)} \\cos{\\left(x \\right)} & \\cos{\\left(x \\right)} \\cos{\\left(y \\right)} & 0\\\\0 & 0 & 0 & 1\\end{matrix}\\right]$"
     },
     "metadata": {},
     "execution_count": 15
    }
   ],
   "source": [
    "mrx = (\n",
    "    cord_vec *\n",
    "    translate(-Symbol('d_x'), -Symbol('d_y'), -Symbol('d_z')) *\n",
    "    rotate_x(Symbol(\"\\\\alpha\")) *\n",
    "    translate(Symbol('d_x'), Symbol('d_y'), Symbol('d_z')) \n",
    ")\n",
    "\n",
    "mry = (\n",
    "    cord_vec *\n",
    "    translate(-Symbol('d_x'), -Symbol('d_y'), -Symbol('d_z')) *\n",
    "    rotate_y(Symbol(\"\\\\alpha\")) *\n",
    "    translate(Symbol('d_x'), Symbol('d_y'), Symbol('d_z')) \n",
    ")\n",
    "\n",
    "mrz = (\n",
    "    cord_vec *\n",
    "    translate(-Symbol('d_x'), -Symbol('d_y'), -Symbol('d_z')) *\n",
    "    rotate_z(Symbol(\"\\\\alpha\")) *\n",
    "    translate(Symbol('d_x'), Symbol('d_y'), Symbol('d_z')) \n",
    ")\n",
    "\n",
    "mt = (\n",
    "    cord_vec *\n",
    "    translate(Symbol('d_x'), Symbol('d_y'), Symbol('d_z'))\n",
    ")\n",
    "\n",
    "\n",
    "ms = (\n",
    "    cord_vec *\n",
    "    translate(-Symbol('d_x'), -Symbol('d_y'), -Symbol('d_z')) *\n",
    "    scale(Symbol(\"s_x\"), Symbol(\"s_y\"), Symbol(\"s_z\")) *\n",
    "    translate(Symbol('d_x'), Symbol('d_y'), Symbol('d_z')) \n",
    ")\n",
    "\n",
    "mrxyz = rotate_x(Symbol(\"x\")) *  rotate_y(Symbol(\"y\")) *  rotate_z(Symbol(\"z\"))\n",
    "\n",
    "# Matrix([mt, ms, mrx, mry, mrz])\n",
    "\n",
    "mrxyz\n"
   ]
  },
  {
   "cell_type": "code",
   "execution_count": 2,
   "metadata": {
    "tags": []
   },
   "outputs": [],
   "source": [
    "file = open(\"../Beaver.obj\", \"rt\")\n",
    "cords = [[0,0,0]]\n",
    "lines = [] \n",
    "for line in file.readlines():\n",
    "    try:\n",
    "        x = line.replace(\"/n\", \"\").split()\n",
    "        if x[0] == \"v\":\n",
    "            cords.append(list(map(lambda x: x* 1.5,map(float, x[1:]))))\n",
    "        if x[0] == \"f\":\n",
    "            c = list(map(lambda y: int(y.split('/')[0]), x[1:]))\n",
    "        \n",
    "            for i in range(len(c) - 1):\n",
    "                line = [c[i], c[i+1]]\n",
    "                lines.append(line)\n",
    "            lines.append([c[0], c[-1]])\n",
    "    except:\n",
    "        pass\n",
    "\n",
    "center = [\n",
    "    (min(map(lambda x: x[0], cords[1:])) + max(map(lambda x: x[0], cords[1:]))) / 2,\n",
    "    (min(map(lambda x: x[1], cords[1:])) + max(map(lambda x: x[1], cords[1:]))) / 2,\n",
    "    (min(map(lambda x: x[2], cords[1:])) + max(map(lambda x: x[2], cords[1:]))) / 2,\n",
    "]\n",
    "\n",
    "print(center)\n",
    "\n",
    "file.close()\n",
    "file = open(\"out.txt\", \"w\")\n",
    "\n",
    "print(len(cords),file=file)\n",
    "# print(*center, file=file)\n",
    "\n",
    "\n",
    "for cord in cords:\n",
    "    print(*cord, file=file)\n",
    "\n",
    "print(len(lines),file=file)\n",
    "\n",
    "for line in lines:\n",
    "    print(*line, file=file)\n",
    "\n",
    "file.close()"
   ]
  },
  {
   "cell_type": "code",
   "execution_count": null,
   "metadata": {},
   "outputs": [],
   "source": []
  }
 ]
}